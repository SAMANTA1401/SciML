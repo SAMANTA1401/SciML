{
 "cells": [
  {
   "cell_type": "code",
   "execution_count": 1,
   "id": "b294e346",
   "metadata": {},
   "outputs": [
    {
     "name": "stdout",
     "output_type": "stream",
     "text": [
      "Requirement already satisfied: scipy in c:\\users\\lenovo\\appdata\\local\\programs\\python\\python311\\lib\\site-packages (1.12.0)\n",
      "Requirement already satisfied: numpy<1.29.0,>=1.22.4 in c:\\users\\lenovo\\appdata\\local\\programs\\python\\python311\\lib\\site-packages (from scipy) (1.24.3)\n",
      "Note: you may need to restart the kernel to use updated packages.\n"
     ]
    },
    {
     "name": "stderr",
     "output_type": "stream",
     "text": [
      "\n",
      "[notice] A new release of pip is available: 24.0 -> 25.1.1\n",
      "[notice] To update, run: python.exe -m pip install --upgrade pip\n"
     ]
    }
   ],
   "source": [
    "pip install scipy"
   ]
  },
  {
   "cell_type": "code",
   "execution_count": 2,
   "id": "7e56ea31",
   "metadata": {},
   "outputs": [],
   "source": [
    "import numpy as np\n",
    "from scipy.linalg import det"
   ]
  },
  {
   "cell_type": "code",
   "execution_count": 3,
   "id": "e29500bc",
   "metadata": {},
   "outputs": [
    {
     "name": "stdout",
     "output_type": "stream",
     "text": [
      "Determinant of the matrix is: 0.9999999999999964\n"
     ]
    }
   ],
   "source": [
    "matrix = np.array([[1, 2, 3],\n",
    "                   [0, 1, 4],\n",
    "                   [5, 6, 0]])\n",
    "\n",
    "determinant = det(matrix)\n",
    "\n",
    "print(f\"Determinant of the matrix is: {determinant}\")"
   ]
  },
  {
   "cell_type": "code",
   "execution_count": null,
   "id": "57a458de",
   "metadata": {},
   "outputs": [
    {
     "name": "stdout",
     "output_type": "stream",
     "text": [
      "0.33333333333333337\n"
     ]
    }
   ],
   "source": [
    "from scipy import integrate\n",
    "\n",
    "# integral of the function from 0 to 1\n",
    "\n",
    "f = lambda x: x**2\n",
    "result, error = integrate.quad(f, 0, 1)\n",
    "print(result)"
   ]
  },
  {
   "cell_type": "code",
   "execution_count": 5,
   "id": "cfd75f48",
   "metadata": {},
   "outputs": [
    {
     "data": {
      "text/plain": [
       "3.700743415417189e-15"
      ]
     },
     "execution_count": 5,
     "metadata": {},
     "output_type": "execute_result"
    }
   ],
   "source": [
    "error"
   ]
  },
  {
   "cell_type": "code",
   "execution_count": 6,
   "id": "725baedb",
   "metadata": {},
   "outputs": [
    {
     "name": "stdout",
     "output_type": "stream",
     "text": [
      "Determinant: 2.0\n"
     ]
    }
   ],
   "source": [
    "import numpy as np\n",
    "from scipy.linalg import det\n",
    "A = np.array([[2, 2],\n",
    "              [3, 4]])\n",
    "\n",
    "# Calculate determinant\n",
    "d = det(A)\n",
    "\n",
    "print(\"Determinant:\", d)"
   ]
  },
  {
   "cell_type": "markdown",
   "id": "0eec48b3",
   "metadata": {},
   "source": [
    "Interpolation is a technique to estimate unknown value points that fall between known data points."
   ]
  },
  {
   "cell_type": "code",
   "execution_count": 7,
   "id": "0664cecf",
   "metadata": {},
   "outputs": [
    {
     "name": "stdout",
     "output_type": "stream",
     "text": [
      "2.5\n"
     ]
    }
   ],
   "source": [
    "from scipy.interpolate import interp1d\n",
    "import numpy as np\n",
    "\n",
    "x = np.array([0, 1, 2, 3])\n",
    "y = np.array([0, 1, 4, 9])\n",
    "\n",
    "f = interp1d(x, y)\n",
    "\n",
    "print(f(1.5))"
   ]
  },
  {
   "cell_type": "code",
   "execution_count": 10,
   "id": "f37486b9",
   "metadata": {},
   "outputs": [
    {
     "data": {
      "text/plain": [
       "array(0.5)"
      ]
     },
     "execution_count": 10,
     "metadata": {},
     "output_type": "execute_result"
    }
   ],
   "source": [
    "f(0.5)"
   ]
  },
  {
   "cell_type": "code",
   "execution_count": 11,
   "id": "c5fb7864",
   "metadata": {},
   "outputs": [
    {
     "data": {
      "text/plain": [
       "array(6.5)"
      ]
     },
     "execution_count": 11,
     "metadata": {},
     "output_type": "execute_result"
    }
   ],
   "source": [
    "f(2.5)"
   ]
  },
  {
   "cell_type": "code",
   "execution_count": 12,
   "id": "c6111755",
   "metadata": {},
   "outputs": [
    {
     "name": "stdout",
     "output_type": "stream",
     "text": [
      "Pi: 3.141592653589793\n",
      "Golden ratio: 1.618033988749895\n",
      "Speed of light: 299792458.0\n",
      "Gravitational constant: 6.6743e-11\n",
      "Gas constant (R): 8.314462618\n",
      "Boltzmann constant: 1.380649e-23\n",
      "Proton mass: 1.67262192369e-27\n"
     ]
    }
   ],
   "source": [
    "import scipy.constants as const\n",
    "\n",
    "print(\"Pi:\", const.pi)\n",
    "print(\"Golden ratio:\", const.golden_ratio)\n",
    "print(\"Speed of light:\", const.c)\n",
    "print(\"Gravitational constant:\", const.G)\n",
    "print(\"Gas constant (R):\", const.R)\n",
    "print(\"Boltzmann constant:\", const.k)\n",
    "print(\"Proton mass:\", const.proton_mass)"
   ]
  },
  {
   "cell_type": "code",
   "execution_count": 13,
   "id": "f56c8f1a",
   "metadata": {},
   "outputs": [
    {
     "name": "stdout",
     "output_type": "stream",
     "text": [
      "['alpha particle-electron mass ratio', 'atomic mass unit-electron volt relationship', 'classical electron radius', 'deuteron-electron mag. mom. ratio', 'deuteron-electron mass ratio', 'electron charge to mass quotient', 'electron g factor', 'electron gyromag. ratio', 'electron gyromag. ratio in MHz/T', 'electron mag. mom.', 'electron mag. mom. anomaly', 'electron mag. mom. to Bohr magneton ratio', 'electron mag. mom. to nuclear magneton ratio', 'electron mass', 'electron mass energy equivalent', 'electron mass energy equivalent in MeV', 'electron mass in u', 'electron molar mass', 'electron relative atomic mass', 'electron to alpha particle mass ratio', 'electron to shielded helion mag. mom. ratio', 'electron to shielded proton mag. mom. ratio', 'electron volt', 'electron volt-atomic mass unit relationship', 'electron volt-hartree relationship', 'electron volt-hertz relationship', 'electron volt-inverse meter relationship', 'electron volt-joule relationship', 'electron volt-kelvin relationship', 'electron volt-kilogram relationship', 'electron-deuteron mag. mom. ratio', 'electron-deuteron mass ratio', 'electron-helion mass ratio', 'electron-muon mag. mom. ratio', 'electron-muon mass ratio', 'electron-neutron mag. mom. ratio', 'electron-neutron mass ratio', 'electron-proton mag. mom. ratio', 'electron-proton mass ratio', 'electron-tau mass ratio', 'electron-triton mass ratio', 'hartree-electron volt relationship', 'helion-electron mass ratio', 'hertz-electron volt relationship', 'inverse meter-electron volt relationship', 'joule-electron volt relationship', 'kelvin-electron volt relationship', 'kilogram-electron volt relationship', 'muon-electron mass ratio', 'neutron-electron mag. mom. ratio', 'neutron-electron mass ratio', 'proton-electron mass ratio', 'tau-electron mass ratio', 'triton-electron mass ratio']\n"
     ]
    }
   ],
   "source": [
    "import scipy\n",
    "res = scipy.constants.find(\"electron\")\n",
    "print(res, end='\\n')"
   ]
  },
  {
   "cell_type": "code",
   "execution_count": 14,
   "id": "64ccc4f9",
   "metadata": {},
   "outputs": [
    {
     "name": "stdout",
     "output_type": "stream",
     "text": [
      "(6.6446573357e-27, 'kg', 2e-36)\n"
     ]
    }
   ],
   "source": [
    "import scipy.constants as const\n",
    "# This return a tuple(vslue, unit, uncertainty)\n",
    "print(const.physical_constants['alpha particle mass'])"
   ]
  },
  {
   "cell_type": "code",
   "execution_count": 15,
   "id": "e7374408",
   "metadata": {},
   "outputs": [
    {
     "name": "stdout",
     "output_type": "stream",
     "text": [
      "Area of Circle: 78.53981633974483\n",
      "Gravitational Force: 3.3371499999999998e-09\n"
     ]
    }
   ],
   "source": [
    "import scipy.constants as const\n",
    "\n",
    "# Area of a circle using pi\n",
    "def area_of_circle(r):\n",
    "    return const.pi * r * r\n",
    "\n",
    "# Gravitational force\n",
    "def force_gravity(M, m, dist):\n",
    "    return (const.G * M * m) / (dist ** 2)\n",
    "\n",
    "print(\"Area of Circle:\", area_of_circle(5))\n",
    "print(\"Gravitational Force:\", force_gravity(10, 5, 1))"
   ]
  },
  {
   "cell_type": "code",
   "execution_count": 16,
   "id": "0948569c",
   "metadata": {},
   "outputs": [
    {
     "name": "stdout",
     "output_type": "stream",
     "text": [
      "A: [[1 2 3]\n",
      " [1 3 2]\n",
      " [3 1 2]]\n",
      "det_A: -12.0\n",
      "inv_A: [[-0.33333333  0.08333333  0.41666667]\n",
      " [-0.33333333  0.58333333 -0.08333333]\n",
      " [ 0.66666667 -0.41666667 -0.08333333]]\n",
      "A x inv_A: [[ 1.00000000e+00 -1.11022302e-16 -2.77555756e-17]\n",
      " [ 0.00000000e+00  1.00000000e+00  0.00000000e+00]\n",
      " [ 2.22044605e-16 -1.11022302e-16  1.00000000e+00]]\n",
      "b: [12 28 44]\n",
      "x: [16.66666667  8.66666667 -7.33333333]\n"
     ]
    }
   ],
   "source": [
    "import numpy as np\n",
    "from scipy import linalg\n",
    "\n",
    "# Create a matrix\n",
    "A = np.array([[1, 2, 3], [1, 3, 2], [3, 1, 2]])\n",
    "print('A:', A)\n",
    "\n",
    "# Calculate the determinant\n",
    "det_A = linalg.det(A)  # det_A will be -0.0\n",
    "print('det_A:', det_A)\n",
    "\n",
    "# Find the inverse of the matrix\n",
    "inv_A = linalg.inv(A)  # inv_A will be the inverse matrix\n",
    "print('inv_A:', inv_A)\n",
    "\n",
    "# A x inv_A, the identity matrix\n",
    "print('A x inv_A:', A @ inv_A)\n",
    "\n",
    "# Solve a system of linear equations\n",
    "b = np.array([12, 28, 44])\n",
    "print('b:', b)\n",
    "x = linalg.solve(A, b)  # x will be the solution to Ax = b\n",
    "print('x:', x)"
   ]
  },
  {
   "cell_type": "code",
   "execution_count": 17,
   "id": "57b38a5d",
   "metadata": {},
   "outputs": [],
   "source": [
    "from scipy.special import gamma, beta\n",
    "\n",
    "# Calculate the gamma function of 3\n",
    "gamma_3 = gamma(3)  # gamma_3 will be 2\n",
    "\n",
    "# Calculate the beta function of 2 and 4\n",
    "beta_2_4 = beta(2, 4)  # beta_2_4 will be 0.05"
   ]
  },
  {
   "cell_type": "code",
   "execution_count": 19,
   "id": "21fbd224",
   "metadata": {},
   "outputs": [],
   "source": [
    "from scipy import stats\n",
    "\n",
    "# Generate random samples from a normal distribution\n",
    "data = stats.norm.rvs(size=100)\n",
    "\n",
    "# Calculate the mean and standard deviation\n",
    "mean = np.mean(data)\n",
    "std = np.std(data)\n",
    "\n",
    "# Perform a t-test\n",
    "t_statistic, p_value = stats.ttest_1samp(data, 0)"
   ]
  },
  {
   "cell_type": "code",
   "execution_count": 20,
   "id": "1c23a33a",
   "metadata": {},
   "outputs": [
    {
     "data": {
      "text/plain": [
       "array([-7.77590678e-01, -2.00350003e-01,  9.95839490e-01, -7.44530083e-02,\n",
       "        1.17008387e+00, -1.90878908e-01, -1.21950101e+00, -4.66974768e-01,\n",
       "        1.34899021e+00, -3.93274947e-01,  9.33245426e-01,  6.85823505e-01,\n",
       "        6.61118812e-01, -5.09877545e-01, -4.19048829e-01,  2.65379252e+00,\n",
       "       -1.99082813e-01, -1.28623552e+00, -7.14318664e-01, -1.56935016e+00,\n",
       "        2.10626694e+00, -1.23879195e+00,  1.06552489e+00,  4.57108215e-01,\n",
       "        3.47998450e-01,  1.17566341e+00, -3.75829308e-01, -6.29579726e-01,\n",
       "        1.26131355e+00, -1.54454664e+00,  8.23513312e-01,  2.23580056e-01,\n",
       "        1.93737128e+00, -1.55542107e+00, -7.51576768e-01,  2.32133961e-01,\n",
       "        1.07076734e-01, -5.48323052e-01, -8.29505470e-01,  7.91571648e-01,\n",
       "        1.63866073e+00, -3.48856539e-01,  4.79683737e-01,  2.41766715e-01,\n",
       "        8.03763910e-01, -1.24277430e+00, -2.22632240e+00, -5.32968178e-01,\n",
       "       -1.54196970e-01,  2.24925278e+00, -3.13214420e-01, -1.83191960e+00,\n",
       "       -1.31076940e+00, -6.05574461e-01, -1.07287740e+00, -1.29294112e+00,\n",
       "       -2.21853786e-01,  1.06524501e+00, -8.81867006e-01, -8.43855165e-02,\n",
       "        5.58130299e-01,  1.59813131e-01, -4.22103819e-01,  1.00209528e+00,\n",
       "        1.18980938e+00,  2.98857435e-01,  1.85184886e+00,  8.22245348e-01,\n",
       "       -2.07388958e+00, -2.29917518e+00, -1.15617392e-02,  1.97921251e+00,\n",
       "       -5.62325139e-01, -1.86470751e-01,  1.17114001e-01,  5.98393915e-01,\n",
       "       -2.33214462e-01,  6.41959150e-01,  2.76448516e-04,  9.38872190e-01,\n",
       "        1.38192785e+00,  5.45298561e-01,  2.32315933e-01, -1.72167208e-01,\n",
       "        2.35652137e+00, -6.20488751e-02,  6.66333625e-02, -3.01354448e-01,\n",
       "       -1.57102042e-01,  3.61771273e-01,  1.14278054e+00,  6.37744764e-01,\n",
       "       -1.75820798e+00, -5.07945569e-01,  3.40122494e-01, -1.53929512e-01,\n",
       "        9.53031377e-01, -7.47452349e-01,  9.26740691e-01,  3.00132243e-01])"
      ]
     },
     "execution_count": 20,
     "metadata": {},
     "output_type": "execute_result"
    }
   ],
   "source": [
    "data"
   ]
  },
  {
   "cell_type": "code",
   "execution_count": 21,
   "id": "52d756e9",
   "metadata": {},
   "outputs": [
    {
     "data": {
      "text/plain": [
       "0.07596056984849729"
      ]
     },
     "execution_count": 21,
     "metadata": {},
     "output_type": "execute_result"
    }
   ],
   "source": [
    "mean"
   ]
  },
  {
   "cell_type": "code",
   "execution_count": 22,
   "id": "ff7582ca",
   "metadata": {},
   "outputs": [
    {
     "data": {
      "text/plain": [
       "1.0339920561841496"
      ]
     },
     "execution_count": 22,
     "metadata": {},
     "output_type": "execute_result"
    }
   ],
   "source": [
    "std"
   ]
  },
  {
   "cell_type": "code",
   "execution_count": 23,
   "id": "ba4c4a51",
   "metadata": {},
   "outputs": [
    {
     "data": {
      "text/plain": [
       "0.730951579972818"
      ]
     },
     "execution_count": 23,
     "metadata": {},
     "output_type": "execute_result"
    }
   ],
   "source": [
    "t_statistic"
   ]
  },
  {
   "cell_type": "code",
   "execution_count": 24,
   "id": "8119a8de",
   "metadata": {},
   "outputs": [
    {
     "data": {
      "text/plain": [
       "0.4665351915816911"
      ]
     },
     "execution_count": 24,
     "metadata": {},
     "output_type": "execute_result"
    }
   ],
   "source": [
    "p_value"
   ]
  },
  {
   "cell_type": "code",
   "execution_count": 25,
   "id": "800eb083",
   "metadata": {},
   "outputs": [
    {
     "name": "stdout",
     "output_type": "stream",
     "text": [
      "Slope: 2.0097059913050503\n",
      "Intercept: 2.9084702542787078\n",
      "R-squared: 0.9763710922170812\n",
      "P-value: 1.618249096187555e-81\n"
     ]
    },
    {
     "data": {
      "image/png": "[encoded data removed]",
      "text/plain": [
       "<Figure size 640x480 with 1 Axes>"
      ]
     },
     "metadata": {},
     "output_type": "display_data"
    }
   ],
   "source": [
    "import numpy as np\n",
    "from scipy import stats\n",
    "\n",
    "# Generate some data\n",
    "x = np.linspace(0, 10, 100)\n",
    "y = 2 * x + 3 + np.random.randn(100)\n",
    "\n",
    "# Fit a linear regression model\n",
    "slope, intercept, r_value, p_value, std_err = stats.linregress(x, y)\n",
    "\n",
    "# Print the results\n",
    "print(\"Slope:\", slope)\n",
    "print(\"Intercept:\", intercept)\n",
    "print(\"R-squared:\", r_value**2)\n",
    "print(\"P-value:\", p_value)\n",
    "\n",
    "# Predict y values for new x values\n",
    "new_x = np.linspace(5, 15, 10)\n",
    "predicted_y = slope * new_x + intercept\n",
    "\n",
    "# Plot the data and the regression line\n",
    "import matplotlib.pyplot as plt\n",
    "\n",
    "plt.scatter(x, y)\n",
    "plt.plot(new_x, predicted_y, color='red')\n",
    "plt.xlabel(\"X\")\n",
    "plt.ylabel(\"Y\")\n",
    "plt.show()"
   ]
  },
  {
   "cell_type": "code",
   "execution_count": 26,
   "id": "1c2c4670",
   "metadata": {},
   "outputs": [
    {
     "data": {
      "image/png": "[encoded data removed]",
      "text/plain": [
       "<Figure size 640x480 with 1 Axes>"
      ]
     },
     "metadata": {},
     "output_type": "display_data"
    }
   ],
   "source": [
    "import numpy as np\n",
    "from scipy.integrate import odeint\n",
    "import matplotlib.pyplot as plt\n",
    "\n",
    "# Define the differential equation\n",
    "def dy_dt(y, t, k):\n",
    "    return -k * y\n",
    "\n",
    "# Set initial conditions and parameters\n",
    "y0 = 5  # Initial value of y\n",
    "t_span = np.linspace(0, 5, 100)  # Time range\n",
    "k = 0.3  # Parameter in the differential equation\n",
    "\n",
    "# Solve the differential equation\n",
    "sol = odeint(dy_dt, y0, t_span, args=(k,))\n",
    "\n",
    "# Plot the solution\n",
    "plt.plot(t_span, sol)\n",
    "plt.xlabel(\"Time (t)\")\n",
    "plt.ylabel(\"y(t)\")\n",
    "plt.title(\"Solution of dy/dt = -ky\")\n",
    "plt.show()"
   ]
  }
 ],
 "metadata": {
  "kernelspec": {
   "display_name": "Python 3",
   "language": "python",
   "name": "python3"
  },
  "language_info": {
   "codemirror_mode": {
    "name": "ipython",
    "version": 3
   },
   "file_extension": ".py",
   "mimetype": "text/x-python",
   "name": "python",
   "nbconvert_exporter": "python",
   "pygments_lexer": "ipython3",
   "version": "3.11.5"
  }
 },
 "nbformat": 4,
 "nbformat_minor": 5
}
